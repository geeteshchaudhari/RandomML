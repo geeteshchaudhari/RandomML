{
  "nbformat": 4,
  "nbformat_minor": 0,
  "metadata": {
    "colab": {
      "provenance": []
    },
    "kernelspec": {
      "name": "python3",
      "display_name": "Python 3"
    },
    "language_info": {
      "name": "python"
    }
  },
  "cells": [
    {
      "cell_type": "code",
      "execution_count": null,
      "metadata": {
        "id": "N5ebRSVu1jtY"
      },
      "outputs": [],
      "source": [
        "import numpy as np\n",
        "import pandas as pd\n",
        "import matplotlib.pyplot as plt\n",
        "from sklearn.metrics import accuracy_score"
      ]
    },
    {
      "cell_type": "code",
      "source": [
        "class Lasso_Regression():\n",
        "\n",
        "  #initiating the hyperparameters\n",
        "  def __init__(self, learning_rate, no_of_iterations, lambda_parameter):\n",
        "\n",
        "    self.learning_rate = learning_rate\n",
        "    self.no_of_iterations = no_of_iterations\n",
        "    self.lambda_parameter = lambda_parameter\n",
        "\n",
        "\n",
        "  # fitting the dataset to the Lasso Regression model\n",
        "  def fit(self, X, Y):\n",
        "\n",
        "    # m --> number of Data points --> number of rows\n",
        "    # n --> number of input features --> number of columns\n",
        "    self.m, self.n = X.shape\n",
        "\n",
        "    self.w = np.zeros(self.n)\n",
        "\n",
        "    self.b = 0\n",
        "\n",
        "    self.X = X\n",
        "\n",
        "    self.Y = Y\n",
        "\n",
        "    # implementing Gradient Descent algorithm for Optimization\n",
        "\n",
        "    for i in range(self.no_of_iterations):     # missed \"self\"\n",
        "      self.upadte_weights()\n",
        "\n",
        "\n",
        "  # function for updating the weight & bias value\n",
        "  def upadte_weights(self):\n",
        "\n",
        "    # linear equation of the model\n",
        "    Y_prediction = self.predict(self.X)\n",
        "\n",
        "    # gradients (dw, db)\n",
        "\n",
        "    # gradient for weight\n",
        "    dw = np.zeros(self.n)\n",
        "\n",
        "    for i in range(self.n):\n",
        "\n",
        "      if self.w[i]>0:\n",
        "\n",
        "        dw[i] = (-(2*(self.X[:,i]).dot(self.Y - Y_prediction)) + self.lambda_parameter) / self.m\n",
        "\n",
        "      else :\n",
        "\n",
        "        dw[i] = (-(2*(self.X[:,i]).dot(self.Y - Y_prediction)) - self.lambda_parameter) / self.m\n",
        "\n",
        "\n",
        "    # gradient for bias\n",
        "    db = - 2 * np.sum(self.Y - Y_prediction) / self.m\n",
        "\n",
        "\n",
        "    # updating the weights & bias\n",
        "\n",
        "    self.w = self.w - self.learning_rate*dw\n",
        "    self.b = self.b - self.learning_rate*db\n",
        "\n",
        "\n",
        "\n",
        "\n",
        "  # Predicting the Target variable\n",
        "  def predict(self,X):\n",
        "\n",
        "    return X.dot(self.w) + self.b"
      ],
      "metadata": {
        "id": "XcKe6HMO27-5"
      },
      "execution_count": null,
      "outputs": []
    },
    {
      "cell_type": "code",
      "source": [
        "salary=pd.read_csv(\"/content/salary_data.csv\")\n",
        "salary.head()\n",
        "X=salary['YearsExperience'].values.reshape(-1,1)\n",
        "Y=np.array(salary['Salary'])\n",
        "X"
      ],
      "metadata": {
        "id": "DI6UikpyVnW4",
        "colab": {
          "base_uri": "https://localhost:8080/"
        },
        "outputId": "59ee2a81-d0af-4c60-b54b-0e0ac3f77e75"
      },
      "execution_count": null,
      "outputs": [
        {
          "output_type": "execute_result",
          "data": {
            "text/plain": [
              "array([[ 1.1],\n",
              "       [ 1.3],\n",
              "       [ 1.5],\n",
              "       [ 2. ],\n",
              "       [ 2.2],\n",
              "       [ 2.9],\n",
              "       [ 3. ],\n",
              "       [ 3.2],\n",
              "       [ 3.2],\n",
              "       [ 3.7],\n",
              "       [ 3.9],\n",
              "       [ 4. ],\n",
              "       [ 4. ],\n",
              "       [ 4.1],\n",
              "       [ 4.5],\n",
              "       [ 4.9],\n",
              "       [ 5.1],\n",
              "       [ 5.3],\n",
              "       [ 5.9],\n",
              "       [ 6. ],\n",
              "       [ 6.8],\n",
              "       [ 7.1],\n",
              "       [ 7.9],\n",
              "       [ 8.2],\n",
              "       [ 8.7],\n",
              "       [ 9. ],\n",
              "       [ 9.5],\n",
              "       [ 9.6],\n",
              "       [10.3],\n",
              "       [10.5]])"
            ]
          },
          "metadata": {},
          "execution_count": 65
        }
      ]
    },
    {
      "cell_type": "code",
      "source": [
        "from sklearn.model_selection import *\n",
        "xtrain,xtest,ytrain,ytest=train_test_split(X,Y,test_size=0.33,random_state=1)"
      ],
      "metadata": {
        "id": "pqVH5s_FWNU4"
      },
      "execution_count": null,
      "outputs": []
    },
    {
      "cell_type": "code",
      "source": [
        "xtrain=np.array([[ 2.9],\n",
        "       [ 9.6],\n",
        "       [ 4. ],\n",
        "       [ 2.2],\n",
        "       [ 3.9],\n",
        "       [ 5.1],\n",
        "       [10.3],\n",
        "       [ 9. ],\n",
        "       [ 5.3],\n",
        "       [ 1.5],\n",
        "       [ 3.2],\n",
        "       [ 9.5],\n",
        "       [ 8.7],\n",
        "       [ 5.9],\n",
        "       [ 4. ],\n",
        "       [ 7.9],\n",
        "       [10.5],\n",
        "       [ 4.1],\n",
        "       [ 4.9],\n",
        "       [ 3.2]])\n",
        "ytrain=[ 56642, 112635,  56957,  39891,  63218,  66029, 122391, 105582,\n",
        "        83088,  37731,  54445, 116969, 109431,  81363,  55794, 101302,\n",
        "       121872,  57081,  67938,  64445]\n",
        "xtest=np.array([[1.3],\n",
        "       [1.1],\n",
        "       [4.5],\n",
        "       [3.7],\n",
        "       [7.1],\n",
        "       [6.0],\n",
        "       [8.2],\n",
        "       [3.0],\n",
        "       [2.0],\n",
        "       [6.8]])\n",
        "ytest=[ 46205,  39343,  61111,  57189,  98273,  93940, 113812,  60150,\n",
        "        43525,  91738]"
      ],
      "metadata": {
        "id": "53sSSHaxChNz"
      },
      "execution_count": null,
      "outputs": []
    },
    {
      "cell_type": "code",
      "source": [
        "model=Lasso_Regression(learning_rate=0.02,no_of_iterations=1000,lambda_parameter=200)\n",
        "model.fit(xtrain,ytrain)"
      ],
      "metadata": {
        "id": "uHG6Ou3CaIRF"
      },
      "execution_count": null,
      "outputs": []
    },
    {
      "cell_type": "code",
      "source": [
        "\n",
        "\n",
        "pred=model.predict(xtest)\n",
        "print(xtest)\n",
        "print(ytest)"
      ],
      "metadata": {
        "colab": {
          "base_uri": "https://localhost:8080/"
        },
        "id": "wuUT_Djv9va1",
        "outputId": "f0b9927d-81c4-4859-988b-5f63278997ab"
      },
      "execution_count": null,
      "outputs": [
        {
          "output_type": "stream",
          "name": "stdout",
          "text": [
            "[[1.3]\n",
            " [1.1]\n",
            " [4.5]\n",
            " [3.7]\n",
            " [7.1]\n",
            " [6. ]\n",
            " [8.2]\n",
            " [3. ]\n",
            " [2. ]\n",
            " [6.8]]\n",
            "[46205, 39343, 61111, 57189, 98273, 93940, 113812, 60150, 43525, 91738]\n"
          ]
        }
      ]
    },
    {
      "cell_type": "code",
      "source": [
        "pred"
      ],
      "metadata": {
        "colab": {
          "base_uri": "https://localhost:8080/"
        },
        "id": "9XPLYYfN91SY",
        "outputId": "9088ec6e-bc3f-4d4a-93af-176533f0c20b"
      },
      "execution_count": null,
      "outputs": [
        {
          "output_type": "execute_result",
          "data": {
            "text/plain": [
              "array([ 36068.90441536,  34166.14804787,  66513.00629512,  58901.98082518,\n",
              "        91248.83907243,  80783.67905126, 101713.9990936 ,  52242.33353898,\n",
              "        42728.55170156,  88394.7045212 ])"
            ]
          },
          "metadata": {},
          "execution_count": 93
        }
      ]
    },
    {
      "cell_type": "code",
      "source": [
        "plt.scatter(xtest,ytest,color='red')\n",
        "plt.plot(xtest,pred)\n",
        "plt.xlabel=(\"experience\")\n",
        "plt.ylabel=(\"salary\")\n",
        "plt.show()\n"
      ],
      "metadata": {
        "colab": {
          "base_uri": "https://localhost:8080/",
          "height": 430
        },
        "id": "anENmmNBBN4x",
        "outputId": "faf46f67-8cc5-4d0f-dbe5-89a4f34cb8ae"
      },
      "execution_count": null,
      "outputs": [
        {
          "output_type": "display_data",
          "data": {
            "text/plain": [
              "<Figure size 640x480 with 1 Axes>"
            ],
            "image/png": "[encoded data removed]"
          },
          "metadata": {}
        }
      ]
    },
    {
      "cell_type": "code",
      "source": [
        "prediction1=model.predict(xtrain)\n",
        "prediction1\n",
        "plt.scatter(xtrain,ytrain,color='red')\n",
        "plt.plot(xtrain,prediction1)\n",
        "plt.xlabel=(\"experience\")\n",
        "plt.ylabel=(\"salary\")\n",
        "plt.show()\n",
        "\n"
      ],
      "metadata": {
        "colab": {
          "base_uri": "https://localhost:8080/",
          "height": 430
        },
        "id": "eDtlYFKMBp0U",
        "outputId": "ecd95f6b-33fe-4d73-8a12-d73c11766299"
      },
      "execution_count": null,
      "outputs": [
        {
          "output_type": "display_data",
          "data": {
            "text/plain": [
              "<Figure size 640x480 with 1 Axes>"
            ],
            "image/png": "[encoded data removed]"
          },
          "metadata": {}
        }
      ]
    },
    {
      "cell_type": "code",
      "source": [],
      "metadata": {
        "id": "3ZO8Eo4KCAv8"
      },
      "execution_count": null,
      "outputs": []
    }
  ]
}